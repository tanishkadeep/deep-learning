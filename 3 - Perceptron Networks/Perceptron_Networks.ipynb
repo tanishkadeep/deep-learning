{
  "nbformat": 4,
  "nbformat_minor": 0,
  "metadata": {
    "colab": {
      "provenance": []
    },
    "kernelspec": {
      "name": "python3",
      "display_name": "Python 3"
    },
    "language_info": {
      "name": "python"
    }
  },
  "cells": [
    {
      "cell_type": "code",
      "execution_count": 2,
      "metadata": {
        "colab": {
          "base_uri": "https://localhost:8080/"
        },
        "id": "eFBj6FrhiHVq",
        "outputId": "a6203fda-5c4c-4c64-bd9a-77544ee5fd0e"
      },
      "outputs": [
        {
          "output_type": "stream",
          "name": "stdout",
          "text": [
            "Prediction: 0\n",
            "Accuracy: 100.0\n"
          ]
        }
      ],
      "source": [
        "import numpy as np\n",
        "\n",
        "class Perceptron:\n",
        "    def __init__(self, weights=None, bias=0):\n",
        "        \"\"\"Initialize the Perceptron with weights and bias.\"\"\"\n",
        "        self.weights = weights\n",
        "        self.bias = bias\n",
        "\n",
        "    def initialize(self, n_features):\n",
        "        \"\"\"Set initial weights and bias as zeros if not provided.\"\"\"\n",
        "        if self.weights is None:\n",
        "            self.weights = np.zeros(n_features)\n",
        "\n",
        "        if self.bias is None:\n",
        "            self.bias = 0\n",
        "\n",
        "        return\n",
        "\n",
        "    def predict(self, inputs):\n",
        "        \"\"\"Predict the class labels for new input data.\"\"\"\n",
        "        # Calculate the step activation function.\n",
        "        activation = np.dot(inputs, self.weights) + self.bias\n",
        "        return 1 if activation > 0 else 0\n",
        "\n",
        "    def train(self, X, y, epochs=100, learning_rate=0.1):\n",
        "        \"\"\"Train the perceptron using the input data and target labels.\"\"\"\n",
        "        # Initialize the weights and bias\n",
        "        self.initialize(X.shape[1])\n",
        "\n",
        "        for epoch in range(epochs):\n",
        "            for inputs, label in zip(X, y):\n",
        "                # Get prediction\n",
        "                y_pred = self.predict(inputs)\n",
        "\n",
        "                # Calculate delta error\n",
        "                error = label - y_pred\n",
        "\n",
        "                # Update weights and bias\n",
        "                self.weights += learning_rate * error * inputs\n",
        "                self.bias += learning_rate * error\n",
        "\n",
        "        return\n",
        "\n",
        "# Example usage with customized weights\n",
        "X_train = np.array([[0, 0, 1], [0, 1, 1], [1, 0, 1], [1, 1, 1]])\n",
        "y_train = np.array([0, 0, 0, 1]) # Corrected labels\n",
        "\n",
        "custom_weights = np.array([0.2, 0.4, 0.6]) # Customized weights\n",
        "custom_bias = -0.5 # Customized bias\n",
        "\n",
        "p = Perceptron(weights=custom_weights, bias=custom_bias)\n",
        "p.train(X_train, y_train, epochs=100, learning_rate=0.1)\n",
        "\n",
        "# Test prediction\n",
        "test_input = np.array([0, 1, 1])\n",
        "print(\"Prediction:\", p.predict(test_input))  # Output: 0\n",
        "\n",
        "# Evaluate accuracy\n",
        "X_test = np.array([[0, 0, 1], [0, 1, 1], [1, 0, 1], [1, 1, 1]])\n",
        "y_test = np.array([0, 0, 0, 1])\n",
        "\n",
        "# Predict on test data\n",
        "pred = np.array([p.predict(x) for x in X_test])\n",
        "\n",
        "# Calculate accuracy\n",
        "accuracy = np.mean(pred == y_test) * 100\n",
        "print(\"Accuracy:\", accuracy)\n"
      ]
    },
    {
      "cell_type": "code",
      "source": [],
      "metadata": {
        "id": "p6sObtcfiIHA"
      },
      "execution_count": null,
      "outputs": []
    }
  ]
}