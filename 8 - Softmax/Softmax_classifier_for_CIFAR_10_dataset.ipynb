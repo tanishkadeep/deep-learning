{
  "nbformat": 4,
  "nbformat_minor": 0,
  "metadata": {
    "colab": {
      "provenance": []
    },
    "kernelspec": {
      "name": "python3",
      "display_name": "Python 3"
    },
    "language_info": {
      "name": "python"
    }
  },
  "cells": [
    {
      "cell_type": "code",
      "execution_count": 1,
      "metadata": {
        "id": "J1y8vDKadRxc"
      },
      "outputs": [],
      "source": [
        "import tensorflow as tf\n",
        "import numpy as np\n",
        "from tensorflow.keras.datasets import cifar10\n",
        "from sklearn.preprocessing import OneHotEncoder"
      ]
    },
    {
      "cell_type": "code",
      "source": [
        "(x_train , y_train) , (x_test,y_test) = cifar10.load_data()\n"
      ],
      "metadata": {
        "colab": {
          "base_uri": "https://localhost:8080/"
        },
        "id": "rrOBzR6HdvXE",
        "outputId": "48e1c333-e92e-4491-f140-3587821ced2b"
      },
      "execution_count": 2,
      "outputs": [
        {
          "output_type": "stream",
          "name": "stdout",
          "text": [
            "Downloading data from https://www.cs.toronto.edu/~kriz/cifar-10-python.tar.gz\n",
            "170498071/170498071 [==============================] - 3s 0us/step\n"
          ]
        }
      ]
    },
    {
      "cell_type": "code",
      "source": [
        "cifar_10_classes = [\n",
        "    \"Airplane\",\n",
        "    \"Automobile\",\n",
        "    \"Bird\",\n",
        "    \"Cat\",\n",
        "    \"Deer\",\n",
        "    \"Dog\",\n",
        "    \"Frog\",\n",
        "    \"Horse\",\n",
        "    \"Ship\",\n",
        "    \"Truck\"\n",
        "]"
      ],
      "metadata": {
        "id": "1wQi9JO6eCMV"
      },
      "execution_count": 3,
      "outputs": []
    },
    {
      "cell_type": "code",
      "source": [
        "x_train.shape"
      ],
      "metadata": {
        "colab": {
          "base_uri": "https://localhost:8080/"
        },
        "id": "h9rRgtfIeQgI",
        "outputId": "80e73a75-3682-4380-8877-844d15bb9c9e"
      },
      "execution_count": 4,
      "outputs": [
        {
          "output_type": "execute_result",
          "data": {
            "text/plain": [
              "(50000, 32, 32, 3)"
            ]
          },
          "metadata": {},
          "execution_count": 4
        }
      ]
    },
    {
      "cell_type": "code",
      "source": [
        "y_train[1][0]"
      ],
      "metadata": {
        "colab": {
          "base_uri": "https://localhost:8080/"
        },
        "id": "0HUTPbxufXEN",
        "outputId": "6cdc169d-52d6-4503-90ed-b2098f1a5f46"
      },
      "execution_count": 5,
      "outputs": [
        {
          "output_type": "execute_result",
          "data": {
            "text/plain": [
              "9"
            ]
          },
          "metadata": {},
          "execution_count": 5
        }
      ]
    },
    {
      "cell_type": "code",
      "source": [
        "import matplotlib.pyplot as plt\n",
        "plt.imshow(x_train[1])\n",
        "plt.title(cifar_10_classes[y_train[1][0]])\n",
        "plt.axis(\"off\")"
      ],
      "metadata": {
        "colab": {
          "base_uri": "https://localhost:8080/",
          "height": 445
        },
        "id": "Jo-AaYaJe9VJ",
        "outputId": "b6e7b410-16c6-464b-cec3-08d8441cce1a"
      },
      "execution_count": 6,
      "outputs": [
        {
          "output_type": "execute_result",
          "data": {
            "text/plain": [
              "(-0.5, 31.5, 31.5, -0.5)"
            ]
          },
          "metadata": {},
          "execution_count": 6
        },
        {
          "output_type": "display_data",
          "data": {
            "text/plain": [
              "<Figure size 640x480 with 1 Axes>"
            ],
            "image/png": "[encoded data removed]"
          },
          "metadata": {}
        }
      ]
    },
    {
      "cell_type": "code",
      "source": [
        "x_train = x_train/255.0\n",
        "x_test = x_test/255.0"
      ],
      "metadata": {
        "id": "c3h2aiCBfJlX"
      },
      "execution_count": 7,
      "outputs": []
    },
    {
      "cell_type": "code",
      "source": [
        "one_hot_encoder  = OneHotEncoder()\n",
        "y_train = one_hot_encoder.fit_transform(y_train).toarray()\n",
        "y_test = one_hot_encoder.fit_transform(y_test).toarray()"
      ],
      "metadata": {
        "id": "HOePZE-1jlkr"
      },
      "execution_count": 8,
      "outputs": []
    },
    {
      "cell_type": "code",
      "source": [
        "model = tf.keras.models.Sequential([\n",
        "  tf.keras.layers.Flatten(input_shape=(32, 32, 3)),\n",
        "  tf.keras.layers.Dense(10, activation=\"softmax\")\n",
        "])\n",
        "\n",
        "model.compile(optimizer='adam',\n",
        "              loss='categorical_crossentropy',\n",
        "              metrics=['accuracy'])\n",
        "\n",
        "model.fit(x_train, y_train, epochs=20, batch_size=64, validation_data=(x_test, y_test))\n",
        "\n"
      ],
      "metadata": {
        "id": "gIDJJIKIknKr",
        "colab": {
          "base_uri": "https://localhost:8080/"
        },
        "outputId": "d89313c2-4fcc-4eaf-b22d-5fde2d47c0f2"
      },
      "execution_count": 9,
      "outputs": [
        {
          "output_type": "stream",
          "name": "stdout",
          "text": [
            "Epoch 1/20\n",
            "782/782 [==============================] - 9s 10ms/step - loss: 1.9313 - accuracy: 0.3189 - val_loss: 1.8721 - val_accuracy: 0.3385\n",
            "Epoch 2/20\n",
            "782/782 [==============================] - 5s 6ms/step - loss: 1.8441 - accuracy: 0.3565 - val_loss: 1.8566 - val_accuracy: 0.3561\n",
            "Epoch 3/20\n",
            "782/782 [==============================] - 2s 3ms/step - loss: 1.8200 - accuracy: 0.3678 - val_loss: 1.9112 - val_accuracy: 0.3459\n",
            "Epoch 4/20\n",
            "782/782 [==============================] - 3s 4ms/step - loss: 1.8041 - accuracy: 0.3766 - val_loss: 1.7810 - val_accuracy: 0.3790\n",
            "Epoch 5/20\n",
            "782/782 [==============================] - 3s 4ms/step - loss: 1.7839 - accuracy: 0.3827 - val_loss: 1.9679 - val_accuracy: 0.3434\n",
            "Epoch 6/20\n",
            "782/782 [==============================] - 2s 3ms/step - loss: 1.7855 - accuracy: 0.3838 - val_loss: 1.7631 - val_accuracy: 0.3854\n",
            "Epoch 7/20\n",
            "782/782 [==============================] - 2s 3ms/step - loss: 1.7696 - accuracy: 0.3882 - val_loss: 1.7984 - val_accuracy: 0.3652\n",
            "Epoch 8/20\n",
            "782/782 [==============================] - 2s 3ms/step - loss: 1.7778 - accuracy: 0.3860 - val_loss: 1.8029 - val_accuracy: 0.3592\n",
            "Epoch 9/20\n",
            "782/782 [==============================] - 3s 4ms/step - loss: 1.7653 - accuracy: 0.3911 - val_loss: 1.8056 - val_accuracy: 0.3708\n",
            "Epoch 10/20\n",
            "782/782 [==============================] - 3s 4ms/step - loss: 1.7661 - accuracy: 0.3917 - val_loss: 1.9155 - val_accuracy: 0.3475\n",
            "Epoch 11/20\n",
            "782/782 [==============================] - 2s 3ms/step - loss: 1.7495 - accuracy: 0.4005 - val_loss: 1.8362 - val_accuracy: 0.3658\n",
            "Epoch 12/20\n",
            "782/782 [==============================] - 2s 3ms/step - loss: 1.7534 - accuracy: 0.3959 - val_loss: 1.7704 - val_accuracy: 0.3810\n",
            "Epoch 13/20\n",
            "782/782 [==============================] - 2s 3ms/step - loss: 1.7427 - accuracy: 0.4016 - val_loss: 1.8615 - val_accuracy: 0.3539\n",
            "Epoch 14/20\n",
            "782/782 [==============================] - 3s 4ms/step - loss: 1.7401 - accuracy: 0.4002 - val_loss: 1.8408 - val_accuracy: 0.3776\n",
            "Epoch 15/20\n",
            "782/782 [==============================] - 3s 4ms/step - loss: 1.7424 - accuracy: 0.4031 - val_loss: 1.8325 - val_accuracy: 0.3614\n",
            "Epoch 16/20\n",
            "782/782 [==============================] - 2s 3ms/step - loss: 1.7361 - accuracy: 0.4041 - val_loss: 1.9270 - val_accuracy: 0.3364\n",
            "Epoch 17/20\n",
            "782/782 [==============================] - 2s 3ms/step - loss: 1.7434 - accuracy: 0.4013 - val_loss: 1.8073 - val_accuracy: 0.3805\n",
            "Epoch 18/20\n",
            "782/782 [==============================] - 2s 3ms/step - loss: 1.7385 - accuracy: 0.4047 - val_loss: 1.8520 - val_accuracy: 0.3668\n",
            "Epoch 19/20\n",
            "782/782 [==============================] - 3s 4ms/step - loss: 1.7325 - accuracy: 0.4077 - val_loss: 1.7836 - val_accuracy: 0.3801\n",
            "Epoch 20/20\n",
            "782/782 [==============================] - 3s 4ms/step - loss: 1.7343 - accuracy: 0.4066 - val_loss: 1.7612 - val_accuracy: 0.3955\n"
          ]
        },
        {
          "output_type": "execute_result",
          "data": {
            "text/plain": [
              "<keras.src.callbacks.History at 0x7e4340d45b70>"
            ]
          },
          "metadata": {},
          "execution_count": 9
        }
      ]
    },
    {
      "cell_type": "code",
      "source": [
        "new_image = x_test[10]\n",
        "plt.imshow(new_image)\n",
        "plt.axis(\"off\")\n",
        "img = np.expand_dims(new_image, axis=0)"
      ],
      "metadata": {
        "colab": {
          "base_uri": "https://localhost:8080/",
          "height": 406
        },
        "id": "fvVWZplalEot",
        "outputId": "8475057b-2af9-440d-f88f-1395aa39611c"
      },
      "execution_count": 10,
      "outputs": [
        {
          "output_type": "display_data",
          "data": {
            "text/plain": [
              "<Figure size 640x480 with 1 Axes>"
            ],
            "image/png": "[encoded data removed]"
          },
          "metadata": {}
        }
      ]
    },
    {
      "cell_type": "code",
      "source": [
        "img.shape"
      ],
      "metadata": {
        "colab": {
          "base_uri": "https://localhost:8080/"
        },
        "id": "MeOgf9-Slfqd",
        "outputId": "8fe4c311-386c-43a2-befd-76c7aa804d31"
      },
      "execution_count": 11,
      "outputs": [
        {
          "output_type": "execute_result",
          "data": {
            "text/plain": [
              "(1, 32, 32, 3)"
            ]
          },
          "metadata": {},
          "execution_count": 11
        }
      ]
    },
    {
      "cell_type": "code",
      "source": [
        "pred = model.predict(img)\n",
        "pred"
      ],
      "metadata": {
        "colab": {
          "base_uri": "https://localhost:8080/"
        },
        "id": "YwcaOuxglywm",
        "outputId": "63d01778-fe11-4cd4-d72d-8ff73e1f6209"
      },
      "execution_count": 12,
      "outputs": [
        {
          "output_type": "stream",
          "name": "stdout",
          "text": [
            "1/1 [==============================] - 0s 112ms/step\n"
          ]
        },
        {
          "output_type": "execute_result",
          "data": {
            "text/plain": [
              "array([[0.31223142, 0.02399713, 0.03411235, 0.07986869, 0.01834623,\n",
              "        0.06256324, 0.00558525, 0.00682984, 0.445004  , 0.01146188]],\n",
              "      dtype=float32)"
            ]
          },
          "metadata": {},
          "execution_count": 12
        }
      ]
    },
    {
      "cell_type": "code",
      "source": [
        "prediction = np.argmax(pred)\n",
        "cifar_10_classes[prediction]"
      ],
      "metadata": {
        "colab": {
          "base_uri": "https://localhost:8080/",
          "height": 36
        },
        "id": "49U_P7tDl25h",
        "outputId": "e2dcf7dd-1474-46dd-d1d1-f5df3e8297fb"
      },
      "execution_count": 13,
      "outputs": [
        {
          "output_type": "execute_result",
          "data": {
            "text/plain": [
              "'Ship'"
            ],
            "application/vnd.google.colaboratory.intrinsic+json": {
              "type": "string"
            }
          },
          "metadata": {},
          "execution_count": 13
        }
      ]
    },
    {
      "cell_type": "code",
      "source": [],
      "metadata": {
        "id": "5U61o1LZl-C2"
      },
      "execution_count": 13,
      "outputs": []
    }
  ]
}